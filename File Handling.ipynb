{
 "cells": [
  {
   "cell_type": "markdown",
   "id": "6ed2cbad-be36-482f-ad42-7d4e3969c2b0",
   "metadata": {},
   "source": [
    "# writing to a file"
   ]
  },
  {
   "cell_type": "code",
   "execution_count": 6,
   "id": "a7308733-4e14-45d5-be7c-dc7a1fab5f6c",
   "metadata": {},
   "outputs": [],
   "source": [
    "# case 1 - if the file is not present \n",
    "f = open('sample.txt', 'w')\n",
    "f.write('Hello! My name is Sunny')\n",
    "f.close()\n",
    "# since file is closed hence i cant write more"
   ]
  },
  {
   "cell_type": "code",
   "execution_count": 10,
   "id": "6274abec-64a3-40c3-bb90-03cea4ae36b7",
   "metadata": {},
   "outputs": [],
   "source": [
    "# writing multiple strings\n",
    "f = open('sample.txt','w')\n",
    "f.write('Hello again')\n",
    "f.write('\\nHow are you?')\n",
    "f.close()"
   ]
  },
  {
   "cell_type": "code",
   "execution_count": 12,
   "id": "d83b4258-6ada-4f0f-9d94-1139327c8db2",
   "metadata": {},
   "outputs": [],
   "source": [
    "# case-2 - if the file is already present\n",
    "f = open('sample.txt', 'w')\n",
    "f.write('Ashaduzzaman Sunny')\n",
    "f.close()"
   ]
  },
  {
   "cell_type": "code",
   "execution_count": 14,
   "id": "bfb7af55-52b9-479d-be76-0dc66c723c27",
   "metadata": {},
   "outputs": [],
   "source": [
    "# problem with w mode \n",
    "# introducing 'append' mode\n",
    "f = open('sample.txt', 'a')\n",
    "f.write('\\nIam a computer science student')\n",
    "f.close()"
   ]
  },
  {
   "cell_type": "code",
   "execution_count": 16,
   "id": "4af6a840-107e-4bf8-a6c9-ae66dc3c56fd",
   "metadata": {},
   "outputs": [],
   "source": [
    "# write many lines\n",
    "L = ['\\nhello', '\\nhow are you?', \"\\nwhat's your name?\", '\\nYour age?']\n",
    "f = open('sample.txt', 'a')\n",
    "f.writelines(L)\n",
    "f.close()"
   ]
  },
  {
   "cell_type": "code",
   "execution_count": 20,
   "id": "97d251ab-23bc-48a3-8c94-75906c41d7fd",
   "metadata": {},
   "outputs": [
    {
     "name": "stdout",
     "output_type": "stream",
     "text": [
      "Ashaduzzaman Sunny\n",
      "Iam a computer science student\n",
      "hello\n",
      "how are you?\n",
      "what's your name?\n",
      "Your age?\n"
     ]
    }
   ],
   "source": [
    "# reading from files\n",
    "# -> using read()\n",
    "f = open('sample.txt','r')\n",
    "s = f.read()\n",
    "print(s)\n",
    "f.close()"
   ]
  },
  {
   "cell_type": "code",
   "execution_count": 24,
   "id": "e780b4f7-3f74-47ed-b8f4-6d4765b7594a",
   "metadata": {},
   "outputs": [
    {
     "name": "stdout",
     "output_type": "stream",
     "text": [
      "Ashaduzzaman\n"
     ]
    }
   ],
   "source": [
    "# reading upto n chars\n",
    "f = open('sample.txt','r')\n",
    "s = f.read(12)\n",
    "print(s)\n",
    "f.close()"
   ]
  },
  {
   "cell_type": "code",
   "execution_count": 30,
   "id": "e890eec1-1efa-48d1-bb07-fd5b0436de12",
   "metadata": {},
   "outputs": [
    {
     "name": "stdout",
     "output_type": "stream",
     "text": [
      "Ashaduzzaman Sunny\n",
      "Iam a computer science student\n",
      "\n"
     ]
    }
   ],
   "source": [
    "# readline()-> read line by line\n",
    "f = open('sample.txt','r')\n",
    "print(f.readline(),end='')\n",
    "print(f.readline())\n",
    "f.close()\n"
   ]
  },
  {
   "cell_type": "code",
   "execution_count": 32,
   "id": "59d88574-ae15-42fc-a5e6-b7db91602fed",
   "metadata": {},
   "outputs": [
    {
     "name": "stdout",
     "output_type": "stream",
     "text": [
      "Ashaduzzaman Sunny\n",
      "Iam a computer science student\n",
      "hello\n",
      "how are you?\n",
      "what's your name?\n",
      "Your age?"
     ]
    }
   ],
   "source": [
    "# reading entire using readline\n",
    "f = open('sample.txt','r')\n",
    "for i in f:\n",
    "    print(i,end='')\n",
    "\n",
    "f.close()"
   ]
  },
  {
   "cell_type": "markdown",
   "id": "da70c25b-a5ed-44ea-9264-f93eaad26c82",
   "metadata": {},
   "source": [
    "### using context manager(with)\n",
    "- it's a good idea to close a file after usage as it will free up the resources\n",
    "- if we dont close it , garbage collectr would close it\n",
    "- with keyword closes the file as soon as the usage is over"
   ]
  },
  {
   "cell_type": "code",
   "execution_count": 40,
   "id": "62b3fd22-5e18-410f-81ce-8f3072001d3f",
   "metadata": {},
   "outputs": [],
   "source": [
    "# with \n",
    "with open('sample.txt','w') as f:\n",
    "     f.write('\\nThis is the new thing ive learned so far')"
   ]
  },
  {
   "cell_type": "code",
   "execution_count": 42,
   "id": "f1b62783-acab-49ab-bcc0-a02d9887e1c7",
   "metadata": {},
   "outputs": [
    {
     "name": "stdout",
     "output_type": "stream",
     "text": [
      "\n",
      "This is the new thing ive learned so far\n"
     ]
    }
   ],
   "source": [
    "# try f.read() now \n",
    "with open('sample.txt','r') as f:\n",
    "    print(f.read())"
   ]
  },
  {
   "cell_type": "code",
   "execution_count": 46,
   "id": "720a0d6f-fed0-4b9c-b517-9dbd14e98faa",
   "metadata": {},
   "outputs": [
    {
     "name": "stdout",
     "output_type": "stream",
     "text": [
      "\n",
      "This is t\n",
      "he new thi\n"
     ]
    }
   ],
   "source": [
    "# moving within a file -> 10 char then 10 char\n",
    "with open('sample.txt','r') as f:\n",
    "    print(f.read(10))\n",
    "    print(f.read(10))"
   ]
  },
  {
   "cell_type": "code",
   "execution_count": 48,
   "id": "088d3852-5d8d-485e-b25b-2d68633a3fff",
   "metadata": {},
   "outputs": [],
   "source": [
    "# benefit? -> to load a big file in memory\n",
    "big_L = ['HELLO WORLD' for i in range(1000)]\n",
    "\n",
    "with open('big.txt','w') as f:\n",
    "    f.writelines(big_L)"
   ]
  },
  {
   "cell_type": "code",
   "execution_count": null,
   "id": "5e38c9da-5a24-47a2-9c73-8dd62356e44c",
   "metadata": {},
   "outputs": [],
   "source": [
    "with open('big.txt','r') as f:\n",
    "    chunk_size = 100\n",
    "    while len(f.read(chunk_size)) > 0:\n",
    "        print(f.read(chunk_size),end='**')\n",
    "        print(f.read(chunk_size),end='**')"
   ]
  },
  {
   "cell_type": "code",
   "execution_count": 67,
   "id": "aa519dc6-5b6a-490c-be2a-ef63c4ce33ed",
   "metadata": {},
   "outputs": [
    {
     "name": "stdout",
     "output_type": "stream",
     "text": [
      "\n",
      "This is t\n",
      "11\n",
      "\n",
      "This is t\n"
     ]
    }
   ],
   "source": [
    "# seek and tell function\n",
    "with open('sample.txt','r') as f :\n",
    "    print(f.read(10))\n",
    "    print(f.tell())\n",
    "    f.seek(0)\n",
    "    print(f.read(10))"
   ]
  },
  {
   "cell_type": "code",
   "execution_count": 75,
   "id": "a51a28f3-e6a4-4c0f-b5ed-7a2d468f37cf",
   "metadata": {},
   "outputs": [],
   "source": [
    "# seek during write\n",
    "with open('sample.txt','a') as f:\n",
    "    f.write('\\nHello')\n",
    "    f.seek(0)\n",
    "    f.write('x')"
   ]
  },
  {
   "cell_type": "code",
   "execution_count": 77,
   "id": "391a2d82-703e-4be3-9922-8f64b36196e6",
   "metadata": {},
   "outputs": [
    {
     "ename": "UnicodeDecodeError",
     "evalue": "'charmap' codec can't decode byte 0x8f in position 57: character maps to <undefined>",
     "output_type": "error",
     "traceback": [
      "\u001b[1;31m---------------------------------------------------------------------------\u001b[0m",
      "\u001b[1;31mUnicodeDecodeError\u001b[0m                        Traceback (most recent call last)",
      "Cell \u001b[1;32mIn[77], line 3\u001b[0m\n\u001b[0;32m      1\u001b[0m \u001b[38;5;66;03m# working with binary file\u001b[39;00m\n\u001b[0;32m      2\u001b[0m \u001b[38;5;28;01mwith\u001b[39;00m \u001b[38;5;28mopen\u001b[39m(\u001b[38;5;124m'\u001b[39m\u001b[38;5;124mimg1.png\u001b[39m\u001b[38;5;124m'\u001b[39m,\u001b[38;5;124m'\u001b[39m\u001b[38;5;124mr\u001b[39m\u001b[38;5;124m'\u001b[39m) \u001b[38;5;28;01mas\u001b[39;00m f:\n\u001b[1;32m----> 3\u001b[0m     f\u001b[38;5;241m.\u001b[39mread()\n",
      "File \u001b[1;32m~\\anaconda3\\Lib\\encodings\\cp1252.py:23\u001b[0m, in \u001b[0;36mIncrementalDecoder.decode\u001b[1;34m(self, input, final)\u001b[0m\n\u001b[0;32m     22\u001b[0m \u001b[38;5;28;01mdef\u001b[39;00m \u001b[38;5;21mdecode\u001b[39m(\u001b[38;5;28mself\u001b[39m, \u001b[38;5;28minput\u001b[39m, final\u001b[38;5;241m=\u001b[39m\u001b[38;5;28;01mFalse\u001b[39;00m):\n\u001b[1;32m---> 23\u001b[0m     \u001b[38;5;28;01mreturn\u001b[39;00m codecs\u001b[38;5;241m.\u001b[39mcharmap_decode(\u001b[38;5;28minput\u001b[39m,\u001b[38;5;28mself\u001b[39m\u001b[38;5;241m.\u001b[39merrors,decoding_table)[\u001b[38;5;241m0\u001b[39m]\n",
      "\u001b[1;31mUnicodeDecodeError\u001b[0m: 'charmap' codec can't decode byte 0x8f in position 57: character maps to <undefined>"
     ]
    }
   ],
   "source": [
    "# working with binary file\n",
    "with open('img1.png','r') as f:\n",
    "    f.read()"
   ]
  },
  {
   "cell_type": "code",
   "execution_count": 80,
   "id": "a4c25365-a3ff-4f8b-ae31-047a9085744c",
   "metadata": {},
   "outputs": [],
   "source": [
    "# solution\n",
    "with open('img1.png','rb') as f:\n",
    "    with open('copy.png', 'wb') as ff:\n",
    "        ff.write(f.read())"
   ]
  },
  {
   "cell_type": "code",
   "execution_count": 82,
   "id": "c2c89d2c-d4a0-4364-8599-e6196dba3db8",
   "metadata": {},
   "outputs": [
    {
     "ename": "TypeError",
     "evalue": "write() argument must be str, not int",
     "output_type": "error",
     "traceback": [
      "\u001b[1;31m---------------------------------------------------------------------------\u001b[0m",
      "\u001b[1;31mTypeError\u001b[0m                                 Traceback (most recent call last)",
      "Cell \u001b[1;32mIn[82], line 3\u001b[0m\n\u001b[0;32m      1\u001b[0m \u001b[38;5;66;03m# working with other data types\u001b[39;00m\n\u001b[0;32m      2\u001b[0m \u001b[38;5;28;01mwith\u001b[39;00m \u001b[38;5;28mopen\u001b[39m(\u001b[38;5;124m'\u001b[39m\u001b[38;5;124msample.txt\u001b[39m\u001b[38;5;124m'\u001b[39m,\u001b[38;5;124m'\u001b[39m\u001b[38;5;124mw\u001b[39m\u001b[38;5;124m'\u001b[39m) \u001b[38;5;28;01mas\u001b[39;00m f:\n\u001b[1;32m----> 3\u001b[0m     f\u001b[38;5;241m.\u001b[39mwrite(\u001b[38;5;241m5\u001b[39m)\n",
      "\u001b[1;31mTypeError\u001b[0m: write() argument must be str, not int"
     ]
    }
   ],
   "source": [
    "# working with other data types\n",
    "with open('sample.txt','w') as f:\n",
    "    f.write(5)\n"
   ]
  },
  {
   "cell_type": "code",
   "execution_count": 86,
   "id": "40d7bf0d-808c-4df5-bc05-95ddf23d65af",
   "metadata": {},
   "outputs": [],
   "source": [
    "# more complex\n",
    "d = {\n",
    "     'name':'sunny',\n",
    "    'age': 23,\n",
    "    'gender':'male'\n",
    "}\n",
    "with open('sample.txt','w') as f:\n",
    "    f.write(str(d))\n"
   ]
  },
  {
   "cell_type": "code",
   "execution_count": 90,
   "id": "24c2d4cc-6404-415c-be75-3236c6b90026",
   "metadata": {},
   "outputs": [
    {
     "name": "stdout",
     "output_type": "stream",
     "text": [
      "{'name': 'sunny', 'age': 23, 'gender': 'male'}\n"
     ]
    }
   ],
   "source": [
    "with open('sample.txt','r') as f:\n",
    "    print(f.read())"
   ]
  },
  {
   "cell_type": "markdown",
   "id": "43c8a997-eebf-4a98-8134-5cb388d9a262",
   "metadata": {},
   "source": [
    "## serialization and Deserialization\n",
    "- seralization - process of converting python data types to JSON format\n",
    "- Deserialization - process of comverting JSON to python data types\n",
    "- JSON - JavaScript on Notation (Universal Language)"
   ]
  },
  {
   "cell_type": "code",
   "execution_count": 95,
   "id": "1a649803-71c5-4415-94e6-e8efb8831b99",
   "metadata": {},
   "outputs": [],
   "source": [
    "# serialization using json module\n",
    "# list\n",
    "L = [1,2,3,4,5]\n",
    "with open('demo.json', 'w') as f:\n",
    "    json.dump(L,f)"
   ]
  },
  {
   "cell_type": "code",
   "execution_count": 97,
   "id": "8a775eca-ad99-49fb-8ec3-66d7563fc0a8",
   "metadata": {},
   "outputs": [],
   "source": [
    "d = {\n",
    "     'name':'sunny',\n",
    "    'age': 23,\n",
    "    'gender':'male'\n",
    "}\n",
    "with open('demo.json', 'w') as f:\n",
    "    json.dump(d,f)"
   ]
  },
  {
   "cell_type": "code",
   "execution_count": 107,
   "id": "d9fc6e01-a4c6-4682-9a8e-59c9eb2efd5a",
   "metadata": {},
   "outputs": [
    {
     "name": "stdout",
     "output_type": "stream",
     "text": [
      "{'name': 'sunny', 'age': 23, 'gender': 'male'}\n",
      "<class 'dict'>\n"
     ]
    }
   ],
   "source": [
    "# deserialization \n",
    "with open('demo.json','r') as f:\n",
    "    s = json.load(f)\n",
    "    print(s)\n",
    "    print(type(s))"
   ]
  },
  {
   "cell_type": "code",
   "execution_count": 122,
   "id": "a4e3eca5-aa9b-44ba-8b80-152d866c73f8",
   "metadata": {},
   "outputs": [],
   "source": [
    "# serialise and deserialise tuple\n",
    "t = (1,2,3,4,5)\n",
    "with open('demo.json','w') as f:\n",
    "    json.dump(t,f) # it will show us list but why ?"
   ]
  },
  {
   "cell_type": "code",
   "execution_count": 124,
   "id": "dbff1df9-b6a7-4e8f-81c3-30be85d556e9",
   "metadata": {},
   "outputs": [],
   "source": [
    "## Serialization and Deserialization custom objects\n",
    "class Person:\n",
    "    def __init__(self,fname,lname,age,gender):\n",
    "        self.fname = fname\n",
    "        self.lname = lname\n",
    "        self.age = age \n",
    "        self.gender = gender\n",
    "# format to printed in\n",
    "# -> sunny age -> 23 , gender -> male"
   ]
  },
  {
   "cell_type": "code",
   "execution_count": 128,
   "id": "08555bec-35a8-4550-b672-23bcea69b661",
   "metadata": {},
   "outputs": [],
   "source": [
    "person = Person('Ashaduzzaman','Sunny',23,'Male')"
   ]
  },
  {
   "cell_type": "code",
   "execution_count": 132,
   "id": "a98d8787-1e8f-4cf7-ba01-cef8e79ad3ce",
   "metadata": {},
   "outputs": [],
   "source": [
    "# as a string\n",
    "import json\n",
    "def show_obj(person):\n",
    "    if isinstance(person,Person):\n",
    "        return \"{} {} age -> {} gender -> {}\".format(person.fname,person.lname,person.age,person.gender)\n",
    "with open('demo.json','w') as f:\n",
    "    json.dump(person,f,default = show_obj)"
   ]
  },
  {
   "cell_type": "code",
   "execution_count": 134,
   "id": "267a8199-86af-4c54-9ec7-51f342a07930",
   "metadata": {},
   "outputs": [],
   "source": [
    "# As a dict\n",
    "import json\n",
    "def show_obj(person):\n",
    "    if isinstance(person,Person):\n",
    "        return {'Name' : person.fname + ' ' + person.lname, 'Age' : person.age, 'Gender' : person.gender}\n",
    "with open('demo.json','w') as f:\n",
    "    json.dump(person,f,default = show_obj)"
   ]
  },
  {
   "cell_type": "code",
   "execution_count": 136,
   "id": "9b759a2e-29dc-4eeb-930d-84007b4971d7",
   "metadata": {},
   "outputs": [
    {
     "name": "stdout",
     "output_type": "stream",
     "text": [
      "{'Name': 'Ashaduzzaman Sunny', 'Age': 23, 'Gender': 'Male'}\n"
     ]
    }
   ],
   "source": [
    "# Deserialization\n",
    "import json\n",
    "with open('demo.json','r') as f:\n",
    "    print(json.load(f))"
   ]
  },
  {
   "cell_type": "markdown",
   "id": "940a61a7-d159-4811-9c57-484973087d64",
   "metadata": {},
   "source": [
    "## Pickling"
   ]
  },
  {
   "cell_type": "markdown",
   "id": "5033c7f9-c324-4621-96cf-ed8ece146135",
   "metadata": {},
   "source": [
    "- 'Pickling' is the process whereby a Python obj hierarchy is converted into a byte stream and 'unpickling' is the inverse operation whereby a byte strean (from a binary file or bytes like obj) is converted back into an obj hierarchy."
   ]
  },
  {
   "cell_type": "code",
   "execution_count": 140,
   "id": "a6d3003e-91e0-4d7f-bb7d-7c12a8885872",
   "metadata": {},
   "outputs": [],
   "source": [
    "class Person:\n",
    "    def __init__(self,name,age):\n",
    "        self.name = name\n",
    "        self.age = age\n",
    "\n",
    "    def display_info(self):\n",
    "        print('Hi my name is', self.name,'and i am', self.age,'years old')\n"
   ]
  },
  {
   "cell_type": "code",
   "execution_count": 142,
   "id": "57730a1d-92cb-44c7-8ada-65f580acdf03",
   "metadata": {},
   "outputs": [],
   "source": [
    "p = Person('Sunny',23)"
   ]
  },
  {
   "cell_type": "code",
   "execution_count": 144,
   "id": "6b533d21-c0f0-4d9f-9b8b-cd2192b20220",
   "metadata": {},
   "outputs": [],
   "source": [
    "# pickle Dump\n",
    "import pickle \n",
    "with open('Person.pkl','wb') as f:\n",
    "    pickle.dump(p,f)"
   ]
  },
  {
   "cell_type": "code",
   "execution_count": 146,
   "id": "c7c44d5f-2e87-49d2-aef9-2f361147eaef",
   "metadata": {},
   "outputs": [
    {
     "name": "stdout",
     "output_type": "stream",
     "text": [
      "Hi my name is Sunny and i am 23 years old\n"
     ]
    }
   ],
   "source": [
    "# pickle load\n",
    "import pickle\n",
    "with open('Person.pkl','rb') as f:\n",
    "    P = pickle.load(f)\n",
    "P.display_info()"
   ]
  },
  {
   "cell_type": "markdown",
   "id": "d9263899-8e2f-4406-9eb7-df2530fa8aff",
   "metadata": {},
   "source": [
    "## Pickle Vs Json\n",
    "- Pickle lets the user to store data in binary format, JSON lets the user store data in a human readable text format"
   ]
  },
  {
   "cell_type": "code",
   "execution_count": null,
   "id": "424fb07a-f5a0-4ce8-a26b-31756bf37823",
   "metadata": {},
   "outputs": [],
   "source": []
  }
 ],
 "metadata": {
  "kernelspec": {
   "display_name": "Python 3 (ipykernel)",
   "language": "python",
   "name": "python3"
  },
  "language_info": {
   "codemirror_mode": {
    "name": "ipython",
    "version": 3
   },
   "file_extension": ".py",
   "mimetype": "text/x-python",
   "name": "python",
   "nbconvert_exporter": "python",
   "pygments_lexer": "ipython3",
   "version": "3.12.4"
  }
 },
 "nbformat": 4,
 "nbformat_minor": 5
}
