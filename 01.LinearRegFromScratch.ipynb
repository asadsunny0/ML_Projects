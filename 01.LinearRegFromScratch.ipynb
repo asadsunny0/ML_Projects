{
 "cells": [
  {
   "cell_type": "code",
   "execution_count": 31,
   "id": "9cd58a4d-8308-44f6-882b-db175eaf809f",
   "metadata": {},
   "outputs": [],
   "source": [
    "class MyLinearReg:\n",
    "\n",
    "     def __init__(self):\n",
    "         self.m = None\n",
    "         self.b = None\n",
    "\n",
    "     def fit(self,X_train,y_train):\n",
    "         num = 0\n",
    "         den = 0\n",
    "         for i in range(X_train.shape[0]):\n",
    "             num += ((X_train[i] - X_train.mean()) * (y_train[i] - y_train.mean()))\n",
    "             den += ((X_train[i] - X_train.mean()) * (X_train[i] - X_train.mean()))\n",
    "\n",
    "         self.m = num / den\n",
    "         self.b = y_train.mean() - (self.m * X_train.mean())\n",
    "         \n",
    "         print(self.m)\n",
    "         print(self.b)\n",
    "         \n",
    "     def predict(self,X_test):\n",
    "         return self.m * X_test + self.b"
   ]
  },
  {
   "cell_type": "code",
   "execution_count": 5,
   "id": "8b120137-5cb5-4758-8bc6-c6b895d5ba81",
   "metadata": {},
   "outputs": [],
   "source": [
    "import numpy as np\n",
    "import pandas as pd"
   ]
  },
  {
   "cell_type": "code",
   "execution_count": 7,
   "id": "4a035501-9cbf-4640-b551-4c27519f6e4d",
   "metadata": {},
   "outputs": [],
   "source": [
    "df = pd.read_csv('students_cgpa_package.csv')"
   ]
  },
  {
   "cell_type": "code",
   "execution_count": 9,
   "id": "272ee702-109a-45de-9933-b7b7974ec836",
   "metadata": {},
   "outputs": [
    {
     "data": {
      "text/html": [
       "<div>\n",
       "<style scoped>\n",
       "    .dataframe tbody tr th:only-of-type {\n",
       "        vertical-align: middle;\n",
       "    }\n",
       "\n",
       "    .dataframe tbody tr th {\n",
       "        vertical-align: top;\n",
       "    }\n",
       "\n",
       "    .dataframe thead th {\n",
       "        text-align: right;\n",
       "    }\n",
       "</style>\n",
       "<table border=\"1\" class=\"dataframe\">\n",
       "  <thead>\n",
       "    <tr style=\"text-align: right;\">\n",
       "      <th></th>\n",
       "      <th>CGPA</th>\n",
       "      <th>Package_LPA</th>\n",
       "    </tr>\n",
       "  </thead>\n",
       "  <tbody>\n",
       "    <tr>\n",
       "      <th>0</th>\n",
       "      <td>8.20</td>\n",
       "      <td>11.35</td>\n",
       "    </tr>\n",
       "    <tr>\n",
       "      <th>1</th>\n",
       "      <td>6.38</td>\n",
       "      <td>9.02</td>\n",
       "    </tr>\n",
       "    <tr>\n",
       "      <th>2</th>\n",
       "      <td>8.68</td>\n",
       "      <td>13.37</td>\n",
       "    </tr>\n",
       "    <tr>\n",
       "      <th>3</th>\n",
       "      <td>9.46</td>\n",
       "      <td>13.36</td>\n",
       "    </tr>\n",
       "    <tr>\n",
       "      <th>4</th>\n",
       "      <td>7.11</td>\n",
       "      <td>9.72</td>\n",
       "    </tr>\n",
       "  </tbody>\n",
       "</table>\n",
       "</div>"
      ],
      "text/plain": [
       "   CGPA  Package_LPA\n",
       "0  8.20        11.35\n",
       "1  6.38         9.02\n",
       "2  8.68        13.37\n",
       "3  9.46        13.36\n",
       "4  7.11         9.72"
      ]
     },
     "execution_count": 9,
     "metadata": {},
     "output_type": "execute_result"
    }
   ],
   "source": [
    "df.head()"
   ]
  },
  {
   "cell_type": "code",
   "execution_count": 11,
   "id": "c26ac87d-1796-4bda-b17b-67870c4a2113",
   "metadata": {},
   "outputs": [],
   "source": [
    "X = df.iloc[:,0].values"
   ]
  },
  {
   "cell_type": "code",
   "execution_count": 13,
   "id": "b4f43f04-fc5a-437a-a8cb-22666b48beaf",
   "metadata": {},
   "outputs": [
    {
     "data": {
      "text/plain": [
       "array([ 8.2 ,  6.38,  8.68,  9.46,  7.11,  6.09,  5.13,  8.25,  6.1 ,\n",
       "        9.05,  9.03,  6.7 ,  9.79,  5.46,  9.24,  9.04,  7.68,  6.89,\n",
       "        9.15,  9.31,  8.52,  6.14,  5.4 ,  5.51,  8.18,  6.85,  6.33,\n",
       "        8.24,  5.86,  5.82,  9.95,  7.78,  9.21,  6.15,  6.58,  6.05,\n",
       "        9.38,  8.28,  9.57,  6.32,  7.81,  7.92,  7.  ,  9.99,  5.45,\n",
       "        5.55,  8.96,  5.32,  9.98,  9.86,  5.06,  8.41,  6.33,  5.56,\n",
       "        7.27,  9.38,  7.5 ,  9.56,  6.49,  8.04,  8.81,  8.89,  5.  ,\n",
       "        5.1 ,  9.39,  6.54,  9.39,  5.43,  5.35,  8.83,  7.38,  6.33,\n",
       "        7.12,  7.7 ,  6.01,  9.98,  7.19,  5.61,  6.69,  6.15,  5.35,\n",
       "        6.14,  9.3 ,  6.19,  6.07,  9.68,  7.36,  9.04,  5.48,  7.12,\n",
       "        8.65,  9.92,  7.01,  9.31,  5.95,  7.11,  6.25,  7.22,  7.75,\n",
       "       10.  ,  9.84,  9.24,  7.43,  7.01,  6.89,  6.33,  7.28,  9.79,\n",
       "        7.78,  5.77,  9.84,  7.71,  5.29,  7.51,  5.79,  5.4 ,  7.98,\n",
       "        6.18,  9.45,  7.97,  7.1 ,  7.61,  6.02,  6.19,  8.36,  6.58,\n",
       "        5.36,  9.99,  5.37,  6.33,  9.4 ,  6.85,  9.17,  8.06,  8.27,\n",
       "        9.09,  8.32,  5.67,  5.54,  6.36,  8.59,  8.17,  7.44,  9.23,\n",
       "        7.12,  5.02,  8.19,  8.71,  7.14,  5.38,  9.52,  9.17,  5.74,\n",
       "        6.54,  8.98,  9.49,  6.25,  8.9 ,  7.03,  5.77,  9.32,  9.05,\n",
       "        5.12,  6.66,  9.01,  9.05,  8.94,  9.36,  6.11,  7.3 ,  8.98,\n",
       "        5.12,  6.64,  9.83,  8.21,  9.91,  9.7 ,  9.85,  9.81,  5.54,\n",
       "        8.64,  8.03,  6.93,  6.27,  5.01,  7.69,  8.71,  6.82,  8.32,\n",
       "        6.57,  8.6 ,  6.55,  7.01,  5.64,  9.7 ,  9.51,  6.5 ,  5.  ,\n",
       "        7.15,  8.27])"
      ]
     },
     "execution_count": 13,
     "metadata": {},
     "output_type": "execute_result"
    }
   ],
   "source": [
    "X\n"
   ]
  },
  {
   "cell_type": "code",
   "execution_count": 15,
   "id": "6e2f2a7c-0108-4df0-bd8d-fdcc0aaa84e0",
   "metadata": {},
   "outputs": [],
   "source": [
    "y = df.iloc[:,1].values"
   ]
  },
  {
   "cell_type": "code",
   "execution_count": 17,
   "id": "0ba3adcf-f69a-4d88-8c4d-cbc0d3f51e5b",
   "metadata": {},
   "outputs": [
    {
     "data": {
      "text/plain": [
       "array([11.35,  9.02, 13.37, 13.36,  9.72,  9.15,  7.09, 12.46,  9.33,\n",
       "       12.59, 13.94,  9.36, 14.36,  7.38, 14.07, 14.02, 12.47, 10.44,\n",
       "       13.96, 14.12, 11.87,  8.79,  7.57,  7.82, 12.  ,  9.69, 10.37,\n",
       "       12.58,  9.25,  8.49, 15.2 , 12.04, 14.37,  8.29,  9.41,  9.96,\n",
       "       13.7 , 12.21, 14.27,  8.97, 11.24, 12.68,  9.94, 15.  ,  7.27,\n",
       "        8.58, 13.28,  7.74, 15.03, 15.51,  8.03, 12.69,  9.78,  8.21,\n",
       "       11.81, 13.6 , 10.61, 15.08, 10.01, 11.37, 13.29, 13.4 ,  7.15,\n",
       "        8.51, 14.75,  8.93, 14.98,  8.12,  8.55, 12.5 , 11.17, 10.24,\n",
       "       10.1 , 12.01,  8.64, 15.27, 10.82,  7.86, 10.21,  8.67,  8.29,\n",
       "       10.02, 13.09,  9.62,  8.37, 14.66, 11.61, 12.94,  8.08, 10.61,\n",
       "       13.32, 14.08, 10.19, 13.46,  8.82, 10.22, 10.22, 11.55, 10.73,\n",
       "       15.67, 15.61, 13.19, 10.57,  9.63, 11.31, 10.06, 10.77, 15.68,\n",
       "       12.11,  8.25, 14.92, 12.06,  8.1 , 11.97,  9.61,  7.47, 12.32,\n",
       "        8.51, 13.67, 12.19, 10.82, 12.28,  9.46,  9.08, 12.14, 10.37,\n",
       "        7.96, 15.98,  7.48, 10.36, 14.86,  9.59, 14.16, 13.06, 11.42,\n",
       "       13.23, 13.36,  7.74,  8.42,  9.75, 12.29, 11.78, 11.97, 13.03,\n",
       "       10.23,  8.07, 11.81, 13.17,  9.73,  8.84, 14.37, 13.92,  7.86,\n",
       "       10.61, 14.19, 13.66,  8.58, 14.12, 10.79,  9.51, 14.93, 14.34,\n",
       "        8.15, 10.85, 14.24, 13.11, 12.63, 14.76,  9.8 , 10.56, 12.93,\n",
       "        7.07, 10.69, 14.3 , 12.11, 14.94, 13.78, 14.13, 14.25,  8.18,\n",
       "       12.59, 12.07, 10.55,  9.82,  8.37, 11.97, 13.41,  9.37, 12.14,\n",
       "       10.55, 12.5 ,  9.64, 10.11,  8.3 , 14.9 , 14.5 ,  9.85,  7.07,\n",
       "       10.88, 12.33])"
      ]
     },
     "execution_count": 17,
     "metadata": {},
     "output_type": "execute_result"
    }
   ],
   "source": [
    "y"
   ]
  },
  {
   "cell_type": "code",
   "execution_count": 19,
   "id": "79ebda3b-c31f-45d5-b38f-d27dada5e5b9",
   "metadata": {},
   "outputs": [],
   "source": [
    "from sklearn.model_selection import train_test_split\n",
    "X_train,X_test,y_train,y_test = train_test_split(X,y,test_size = 0.2, random_state = 2)"
   ]
  },
  {
   "cell_type": "code",
   "execution_count": 33,
   "id": "56de7458-530b-4251-b8d8-4e3a47313dff",
   "metadata": {},
   "outputs": [],
   "source": [
    "lr = MyLinearReg()"
   ]
  },
  {
   "cell_type": "code",
   "execution_count": 35,
   "id": "1c6f93d0-0474-4900-8a5b-dd9a502d09ea",
   "metadata": {},
   "outputs": [
    {
     "name": "stdout",
     "output_type": "stream",
     "text": [
      "1.5089996449505405\n",
      "-0.028052751484269223\n"
     ]
    }
   ],
   "source": [
    "lr.fit(X_train,y_train)"
   ]
  },
  {
   "cell_type": "code",
   "execution_count": 37,
   "id": "73627b54-bd99-40a9-bc8c-e8c03633d04c",
   "metadata": {},
   "outputs": [
    {
     "data": {
      "text/plain": [
       "array([5.29, 5.82, 6.93, 8.27, 5.64, 9.68, 9.03, 7.27, 5.4 , 6.05, 9.79,\n",
       "       7.01, 5.46, 5.36, 8.21, 8.68, 5.45, 9.46, 7.51, 9.24, 5.51, 6.85,\n",
       "       5.13, 8.27, 9.05, 9.83, 5.55, 6.54, 9.98, 6.02, 9.81, 9.39, 9.05,\n",
       "       9.56, 6.69, 6.33, 5.37, 9.7 , 6.85, 5.56])"
      ]
     },
     "execution_count": 37,
     "metadata": {},
     "output_type": "execute_result"
    }
   ],
   "source": [
    "X_test"
   ]
  },
  {
   "cell_type": "code",
   "execution_count": 39,
   "id": "901aa3e5-094e-4dc0-8b7d-b44860f39407",
   "metadata": {},
   "outputs": [
    {
     "data": {
      "text/plain": [
       "array([ 8.1 ,  8.49, 10.55, 12.33,  8.3 , 14.66, 13.94, 11.81,  7.47,\n",
       "        9.96, 14.36, 10.19,  7.38,  7.96, 12.11, 13.37,  7.27, 13.36,\n",
       "       11.97, 14.07,  7.82,  9.69,  7.09, 11.42, 13.11, 14.3 ,  8.58,\n",
       "        8.93, 15.03,  9.46, 14.25, 14.75, 12.59, 15.08, 10.21, 10.24,\n",
       "        7.48, 13.78,  9.59,  8.21])"
      ]
     },
     "execution_count": 39,
     "metadata": {},
     "output_type": "execute_result"
    }
   ],
   "source": [
    "y_test"
   ]
  },
  {
   "cell_type": "code",
   "execution_count": 45,
   "id": "d15b149f-9eed-4530-b50a-febd3774e615",
   "metadata": {},
   "outputs": [
    {
     "data": {
      "text/plain": [
       "7.9545553703040905"
      ]
     },
     "execution_count": 45,
     "metadata": {},
     "output_type": "execute_result"
    }
   ],
   "source": [
    "lr.predict(X_test[0])"
   ]
  },
  {
   "cell_type": "code",
   "execution_count": null,
   "id": "ce349087-8ed2-47ed-89fc-9f34b3774bba",
   "metadata": {},
   "outputs": [],
   "source": []
  }
 ],
 "metadata": {
  "kernelspec": {
   "display_name": "Python 3 (ipykernel)",
   "language": "python",
   "name": "python3"
  },
  "language_info": {
   "codemirror_mode": {
    "name": "ipython",
    "version": 3
   },
   "file_extension": ".py",
   "mimetype": "text/x-python",
   "name": "python",
   "nbconvert_exporter": "python",
   "pygments_lexer": "ipython3",
   "version": "3.12.4"
  }
 },
 "nbformat": 4,
 "nbformat_minor": 5
}
